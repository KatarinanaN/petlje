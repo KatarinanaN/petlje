{
 "cells": [
  {
   "cell_type": "markdown",
   "id": "f3bce9fd",
   "metadata": {},
   "source": [
    "## <font color='orange' style=\"font-size:25px\"><b>Petlje (Loops)</b></font> "
   ]
  },
  {
   "cell_type": "markdown",
   "id": "7ab459d8",
   "metadata": {},
   "source": [
    "Petlje su drugi najznačajniji deo programirskih jezika. To su mali programi koji vrše izvesne iteracije nad određenim nizovima ili dokle god je neki uslov zadovoljen. U Python-u postoje dve glavne petlje - <font color='DarkGreen'><b>while</b></font> i <font color='DarkGreen'><b>for</b></font>."
   ]
  },
  {
   "cell_type": "markdown",
   "id": "6da6ad50",
   "metadata": {},
   "source": [
    "### <font color='MediumVioletRed' style=\"font-size:20px\"><b>While petlja</b></font>"
   ]
  },
  {
   "cell_type": "markdown",
   "id": "eb81f913",
   "metadata": {},
   "source": [
    "Ova struktura nam omogućava da izvršimo nešto dok je određeni uslov zadovoljen. Uslov je naveden u nastavku ključne reči <font color='DarkGreen'><b>while</b></font>. "
   ]
  },
  {
   "cell_type": "markdown",
   "id": "bbc36ae5",
   "metadata": {},
   "source": [
    "U primeru ispod želmo da napravimo računaljku (counter). Za to moramo koristiti rezervisani simbol <font color='Plum'><b>+=</b></font>. Izraz $x+=\\text{nešto}$ je jednak izrazu $x=x+\\text{nešto}$. Petlja se nastavlja sve dok je $i \\leq 4$. Primetite da imamo i umetanje (uvlačenje):"
   ]
  },
  {
   "cell_type": "code",
   "execution_count": 86,
   "id": "efb97a47",
   "metadata": {},
   "outputs": [
    {
     "name": "stdout",
     "output_type": "stream",
     "text": [
      "1 1\n",
      "2 4\n",
      "3 9\n",
      "4 16\n"
     ]
    }
   ],
   "source": [
    "i=1\n",
    "while i<=4:\n",
    "    print(i, i**2)\n",
    "    i +=1\n",
    "    # Isto što i = i+1 "
   ]
  },
  {
   "cell_type": "markdown",
   "id": "b5580894",
   "metadata": {},
   "source": [
    "Uzmite sledeći string. Pretpostavimo da pravimo listu stringova koristeći <font color='DeepPink'><b>split</b></font>."
   ]
  },
  {
   "cell_type": "code",
   "execution_count": 93,
   "id": "36abd697",
   "metadata": {},
   "outputs": [
    {
     "data": {
      "text/plain": [
       "['2000', 'u', 'Beograd', 'Anja']"
      ]
     },
     "execution_count": 93,
     "metadata": {},
     "output_type": "execute_result"
    }
   ],
   "source": [
    "s = \"\\n2000 u Beograd\\r\\n Anja \\n\"\n",
    "s_list = s.split()\n",
    "s_list"
   ]
  },
  {
   "cell_type": "markdown",
   "id": "b4615f15",
   "metadata": {},
   "source": [
    "Možemo ih povezati umetanjem razmaka između reči na sledeći način: "
   ]
  },
  {
   "cell_type": "code",
   "execution_count": 94,
   "id": "eadeb4ae",
   "metadata": {},
   "outputs": [
    {
     "data": {
      "text/plain": [
       "4"
      ]
     },
     "execution_count": 94,
     "metadata": {},
     "output_type": "execute_result"
    }
   ],
   "source": [
    "len(s_list)"
   ]
  },
  {
   "cell_type": "code",
   "execution_count": 95,
   "id": "d4041541",
   "metadata": {},
   "outputs": [
    {
     "data": {
      "text/plain": [
       "'2000 u Beograd Anja'"
      ]
     },
     "execution_count": 95,
     "metadata": {},
     "output_type": "execute_result"
    }
   ],
   "source": [
    "i=1\n",
    "s_conc = s_list[0]\n",
    "while i<=len(s_list)-1:\n",
    "    s_conc =s_conc + \" \" + s_list[i]\n",
    "    i +=1\n",
    "\n",
    "# Pokaži povezanu reč\n",
    "s_conc"
   ]
  },
  {
   "cell_type": "markdown",
   "id": "72bed216",
   "metadata": {},
   "source": [
    "Isto se može postići i upotrebom uslova <font color='DarkGreen'><b>break</b></font>. Pretpostavimo da pravimo dužu petlju, ali tako da se u pravom trenutku zaustavi. Tada se postiže isti autput kao pre (naravno, NE treba komplikovati kôd bez razloga!). "
   ]
  },
  {
   "cell_type": "code",
   "execution_count": 98,
   "id": "b9795026",
   "metadata": {},
   "outputs": [
    {
     "data": {
      "text/plain": [
       "'2000 u Beograd Anja'"
      ]
     },
     "execution_count": 98,
     "metadata": {},
     "output_type": "execute_result"
    }
   ],
   "source": [
    "i=1\n",
    "s_conc = s_list[0]\n",
    "\n",
    "while i<=17:\n",
    "    s_conc =s_conc + \" \" + s_list[i]\n",
    "    i +=1\n",
    "    if i == len(s_list):\n",
    "        break\n",
    "\n",
    "# Pokaži povezanu reč \n",
    "s_conc"
   ]
  },
  {
   "cell_type": "markdown",
   "id": "5dc5f822",
   "metadata": {},
   "source": [
    "Uzmimo listu brojeva kao što je ispod. Pretpostavimo da uzimamo poslednji element, ali tako da uradimo print tog broja i ostatka liste. Ukoliko upotrebimo <font color='DeepPink'><b>pop</b></font> metod, onda dobijamo nešto nalik: "
   ]
  },
  {
   "cell_type": "code",
   "execution_count": 99,
   "id": "2c620846",
   "metadata": {},
   "outputs": [
    {
     "data": {
      "text/plain": [
       "(9, [4, 5, 12, 9, -1, 8])"
      ]
     },
     "execution_count": 99,
     "metadata": {},
     "output_type": "execute_result"
    }
   ],
   "source": [
    "brojevi = [4,5,12,9,-1,8,9]\n",
    "broj=brojevi.pop()\n",
    "broj, brojevi"
   ]
  },
  {
   "cell_type": "markdown",
   "id": "c3c58487",
   "metadata": {},
   "source": [
    "Hajde da vidimo sada kako možemo napisati faktorijel broja 5 preko  petlje <font color='Green'><b>while</b></font>."
   ]
  },
  {
   "cell_type": "code",
   "execution_count": 102,
   "id": "0726a725",
   "metadata": {},
   "outputs": [
    {
     "data": {
      "text/plain": [
       "120"
      ]
     },
     "execution_count": 102,
     "metadata": {},
     "output_type": "execute_result"
    }
   ],
   "source": [
    "i=1\n",
    "fact = 1\n",
    "\n",
    "while i<=5:\n",
    "    fact = fact*i\n",
    "    i +=1\n",
    "\n",
    "fact"
   ]
  },
  {
   "cell_type": "markdown",
   "id": "9dfb95d7",
   "metadata": {},
   "source": [
    "Ovo može biti i interaktivno. Uzmimo da se faktorijel računa za broj koji mi treba da unesemo kao input. "
   ]
  },
  {
   "cell_type": "code",
   "execution_count": 103,
   "id": "9955fde1",
   "metadata": {},
   "outputs": [
    {
     "name": "stdout",
     "output_type": "stream",
     "text": [
      "Input je pozitivan broj: 5\n",
      "Faktorijel od 5 je: \n",
      " 120\n"
     ]
    }
   ],
   "source": [
    "i=1\n",
    "fact = 1\n",
    "num = int(input(\"Input je pozitivan broj: \"))\n",
    "\n",
    "while i<=num:\n",
    "    fact = fact*i\n",
    "    i +=1\n",
    "\n",
    "print(\"Faktorijel od \" +str(num) + \" je: \\n\",fact)"
   ]
  },
  {
   "cell_type": "markdown",
   "id": "16766656",
   "metadata": {},
   "source": [
    "### <font color='MediumVioletRed' style=\"font-size:20px\"><b>for petlja</b></font> \n",
    "\n",
    "Sada uzmimo <font color='Green'><b>for</b></font> petlju. Petlja <font color='Green'><b>for</b></font> može može da iterira bilo šta. Evo primera kada je predmet iteracije (iterant) lista:"
   ]
  },
  {
   "cell_type": "code",
   "execution_count": 10,
   "id": "8c441525",
   "metadata": {},
   "outputs": [
    {
     "name": "stdout",
     "output_type": "stream",
     "text": [
      "a\n",
      "b\n",
      "c\n",
      "d\n"
     ]
    }
   ],
   "source": [
    "for i in [\"a\",\"b\",\"c\",\"d\"]:\n",
    "    print(i)"
   ]
  },
  {
   "cell_type": "markdown",
   "id": "1a47f650",
   "metadata": {},
   "source": [
    "Možemo napraviti petlju nad pojedinačnim karakterima stringa, s obzirom da se nad stringu mogu vršiti iteracije. Petlju <font color='Green'><b>for</b></font> koristimo na sledeći način: "
   ]
  },
  {
   "cell_type": "code",
   "execution_count": 11,
   "id": "4b68c538",
   "metadata": {},
   "outputs": [
    {
     "name": "stdout",
     "output_type": "stream",
     "text": [
      "B\n",
      "a\n",
      "r\n",
      "b\n",
      "a\n",
      "r\n",
      "a\n"
     ]
    }
   ],
   "source": [
    "for i in \"Barbara\":\n",
    "    print(i)"
   ]
  },
  {
   "cell_type": "markdown",
   "id": "7ebf55df",
   "metadata": {},
   "source": [
    "Ovde imamo jedan praktični primer. Treba pronaći sumu elemenata uređene n-torke. Da bismo to uradili preko petlje potrebno je prvo definisati neke varijable sa inicijalnom vrednošću 0. Onda, petljom želimo da povećamo vrednost te varijable vrednošću svakog elementa iz n-torke. Za to se opet koristi rezervisani simbol <font color='Plum'><b>+=</b></font>"
   ]
  },
  {
   "cell_type": "code",
   "execution_count": 12,
   "id": "d1f343ce",
   "metadata": {},
   "outputs": [
    {
     "name": "stdout",
     "output_type": "stream",
     "text": [
      "Suma je:  28\n"
     ]
    }
   ],
   "source": [
    "suma_elemenata=0\n",
    "\n",
    "for i in (1,2,3,5,7,10):\n",
    "    suma_elemenata += i\n",
    "\n",
    "print(\"Suma je: \", suma_elemenata)"
   ]
  },
  {
   "cell_type": "markdown",
   "id": "d0d3aa70",
   "metadata": {},
   "source": [
    "Funkcija <font color='DodgerBlue'><b>range</b></font> je veoma korisna. Ona pravi listu vrednosti od donje do gornje granice. Primetite da petlja NE uključuje gornju granicu, ali uključuje donju granicu: "
   ]
  },
  {
   "cell_type": "code",
   "execution_count": 14,
   "id": "a10f0e1d",
   "metadata": {},
   "outputs": [
    {
     "name": "stdout",
     "output_type": "stream",
     "text": [
      "1\n",
      "2\n",
      "3\n",
      "4\n",
      "5\n"
     ]
    }
   ],
   "source": [
    "for i in range(1,6):\n",
    "    print(i)"
   ]
  },
  {
   "cell_type": "markdown",
   "id": "2c930e47",
   "metadata": {},
   "source": [
    "Možete precizirati korak sa kojim želite da se krećete od donje ka gornjoj granici, ali za definisanje koraka se ne smeju koristiti <font color='DodgerBlue'><b>float</b></font>-ovi (stoga korak može biti isključivo ceo broj):"
   ]
  },
  {
   "cell_type": "code",
   "execution_count": 15,
   "id": "b74bcc4d",
   "metadata": {},
   "outputs": [
    {
     "name": "stdout",
     "output_type": "stream",
     "text": [
      "1\n",
      "3\n",
      "5\n",
      "7\n",
      "9\n"
     ]
    }
   ],
   "source": [
    "for i in range(1,11,2):\n",
    "    print(i)"
   ]
  },
  {
   "cell_type": "markdown",
   "id": "c6c830f3",
   "metadata": {},
   "source": [
    "Umesto print autputa, isti se može staviti u neki tip podataka koji je iterativan. Obično autpute želimo da stavimo u liste. Izračunajmo listu kvadrata brojeva od 10 do -10 sa korakom -2:"
   ]
  },
  {
   "cell_type": "code",
   "execution_count": 16,
   "id": "b1598885",
   "metadata": {},
   "outputs": [
    {
     "data": {
      "text/plain": [
       "[100, 64, 36, 16, 4, 0, 4, 16, 36, 64]"
      ]
     },
     "execution_count": 16,
     "metadata": {},
     "output_type": "execute_result"
    }
   ],
   "source": [
    "kvadrati=[]\n",
    "\n",
    "for i in range(10,-10,-2):\n",
    "    kvadrati.append(i**2)\n",
    "kvadrati"
   ]
  },
  {
   "cell_type": "markdown",
   "id": "67f91929",
   "metadata": {},
   "source": [
    "Evo drugog praktičnog primera. Hajde da napišemo mali program koji računa faktorijele upotrebom petlje <font color='Green'><b>for</b></font>:"
   ]
  },
  {
   "cell_type": "code",
   "execution_count": 17,
   "id": "e8b7815f",
   "metadata": {},
   "outputs": [
    {
     "name": "stdout",
     "output_type": "stream",
     "text": [
      "Unesite broj: 3\n",
      "Faktorijel od 3 je: \n",
      " 6\n"
     ]
    }
   ],
   "source": [
    "fact = 1\n",
    "num = int(input(\"Unesite broj: \"))\n",
    "\n",
    "for k in range(1,num+1):\n",
    "    fact *= k   # Ovo je isto kao fact = fact * k\n",
    "\n",
    "print(\"Faktorijel od \" +str(num) + \" je: \\n\",fact)"
   ]
  },
  {
   "cell_type": "markdown",
   "id": "ba811ada",
   "metadata": {},
   "source": [
    "Pretpostavimo da hoćemo da izračunamo buduću vrednost novčanih tokova koji treba da se dese u narednih 8 godina. Inicijalno ulaganje nam je poznato. Godišnja kamatna stopa (kratkoročna kamata kako se još naziva) se menja svake godine. Pretpostavimo da je to dato n-torkom  (𝑟1,𝑟2,⋯,𝑟8)\n",
    " . Onda bi buduća vrednost bila:  𝐹𝑉=𝑐(1+𝑟1)(1+𝑟2)⋯(1+𝑟8)\n",
    " . Kako se ovo može dobiti korišćenjem petlje for?"
   ]
  },
  {
   "cell_type": "code",
   "execution_count": 104,
   "id": "5b414e4f",
   "metadata": {},
   "outputs": [
    {
     "name": "stdout",
     "output_type": "stream",
     "text": [
      "1040.00,1092.00,1157.52,1203.82,1288.09,1326.73,1366.53,1393.86,"
     ]
    }
   ],
   "source": [
    "c = 1000\n",
    "r = (0.04, 0.05,0.06,0.04,0.07,0.03, 0.03, 0.02)\n",
    "\n",
    "for kratkorocna_stopa in r:\n",
    "    c *=(1+kratkorocna_stopa)\n",
    "    print('%.2f' % c, end=',')  #Do 2 decimalna mesta "
   ]
  },
  {
   "cell_type": "markdown",
   "id": "7d3b5e33",
   "metadata": {},
   "source": [
    "Petlje se mogu kombinovati sa uslovima. Na primer, neka za svaki broj u n-torci proveri da li je pozitivan ili negativan broj:"
   ]
  },
  {
   "cell_type": "code",
   "execution_count": 19,
   "id": "c6544e60",
   "metadata": {},
   "outputs": [
    {
     "name": "stdout",
     "output_type": "stream",
     "text": [
      "-5 je negativan broj\n",
      "8 je pozitivan broj\n",
      "3 je pozitivan broj\n",
      "-1 je negativan broj\n",
      "-9 je negativan broj\n",
      "0 je nula\n",
      "-5.5 je negativan broj\n",
      "11 je pozitivan broj\n"
     ]
    }
   ],
   "source": [
    "for i in [-5,8,3,-1,-9,0,-5.5,11]:\n",
    "    if i>0:\n",
    "        print(str(i)+' je pozitivan broj')\n",
    "    elif i<0:\n",
    "        print(str(i)+' je negativan broj')\n",
    "    else:\n",
    "        print(str(i)+' je nula')"
   ]
  },
  {
   "cell_type": "markdown",
   "id": "d597b44c",
   "metadata": {},
   "source": [
    "# <font color='tomato' style=\"font-size:40px\"><center><b>Korisničke funkcije (User-Defined Functions)</b></center></font> "
   ]
  },
  {
   "cell_type": "markdown",
   "id": "a15f441c",
   "metadata": {},
   "source": [
    "Korisnička funkcija u Python-u može imati jedan ili nijedan parametar. Evo primera funkcije koja nema nijedan parametar. Obratite pažnju na strukturu. Da bi se napisala funkcija potrebno je napisati ključnu reč (keyword) <font color='DarkGreen'><b>def</b></font> na početku nove linije koda. Pored nje treba napisati ime vaše funkcije i sve njene parametre u zagradi. Kada završite sa tim potrebno je da stavite dve tačke (:) i prva linija koda je gotova. U novoj liniji koda je uobičajeno da se napiše takozvani doc-string u kome navodite šta vaša funkcija radi i koji su njeni parametri (naravno, ukoliko uopšte ima parametre). Prema pravilu, doc-string bi trebalo da pišemo u okviru tri jednostruka navodnika (sa svake strane) ili tri dvostruka navodnika (isto sa svake strane po tri), kao objašnjenje šta funkcija radi. Na kraju, kod bi trebalo da završite sa ključnom rečju <font color='DarkGreen'><b>return</b></font>. Pored toga možete napisati šta god da želite da vidite kao autput svoje funkcije. "
   ]
  },
  {
   "cell_type": "code",
   "execution_count": 105,
   "id": "4317d587",
   "metadata": {},
   "outputs": [],
   "source": [
    "def zdravo():\n",
    "    \"\"\"\n",
    "    Ova funkcija print pozdrav vama\n",
    "    \"\"\"\n",
    "    return print(\"Zdravo!\")"
   ]
  },
  {
   "cell_type": "code",
   "execution_count": 106,
   "id": "c6ed0095",
   "metadata": {},
   "outputs": [
    {
     "name": "stdout",
     "output_type": "stream",
     "text": [
      "Zdravo!\n"
     ]
    }
   ],
   "source": [
    "zdravo()"
   ]
  },
  {
   "cell_type": "markdown",
   "id": "04508835",
   "metadata": {},
   "source": [
    "Možemo dodati parametar ovoj funkciji tako što ćemo je izmeniti malo. Još jednom, funkcije ne daje kao rezultat nešto sa čime bismo mogli dalje da radimo. Ali, trenutno nam dozvoljava da prilagodimo poruku malo:"
   ]
  },
  {
   "cell_type": "code",
   "execution_count": 110,
   "id": "a582a8ac",
   "metadata": {},
   "outputs": [],
   "source": [
    "def zdravo(ime):\n",
    "    \"\"\"\n",
    "    Ova funkcija print pozdrav nekome\n",
    "    \"\"\"\n",
    "    return print(\"{}, pozdrav od nas!\".format(ime))"
   ]
  },
  {
   "cell_type": "code",
   "execution_count": 111,
   "id": "bf2872c8",
   "metadata": {},
   "outputs": [
    {
     "name": "stdout",
     "output_type": "stream",
     "text": [
      "Marko, pozdrav od nas!\n"
     ]
    }
   ],
   "source": [
    "zdravo(\"Marko\")"
   ]
  },
  {
   "cell_type": "markdown",
   "id": "30de71c2",
   "metadata": {},
   "source": [
    "Primetite da je u ovoj funkciji, name obavezan argument koji moramo da napišemo. U suprotnom nam prikazuje grešku. Pretpostavimo da hoćemo da imamo još jedan argument koji nam dozvoljava da kažemo još nešto. U tom slučaju, treba da napravimo dva argumenta."
   ]
  },
  {
   "cell_type": "code",
   "execution_count": 113,
   "id": "664f4fb4",
   "metadata": {},
   "outputs": [],
   "source": [
    "def zdravo(ime, pozdrav):\n",
    "    \"\"\"\n",
    "    Funkcija print pozdrav nekome \n",
    "    \"\"\"\n",
    "    return print(\"Pozdravi, {} od {}!\".format(ime,pozdrav))"
   ]
  },
  {
   "cell_type": "code",
   "execution_count": 114,
   "id": "05bb9cd5",
   "metadata": {},
   "outputs": [
    {
     "name": "stdout",
     "output_type": "stream",
     "text": [
      "Pozdravi, Maji od Marka!\n"
     ]
    }
   ],
   "source": [
    "zdravo(\"Maji\",\"Marka\")"
   ]
  },
  {
   "cell_type": "markdown",
   "id": "bca19c8e",
   "metadata": {},
   "source": [
    "Pozicija argumenata je važna. Interesantna mogućnost je da imamo default values parametara. Naime, pretpostavimo da odlučimo da je po difoltu pozdrav = \"Marka\". To će biti upotrebljeno kada god ne napišemo drugi argument. Sa druge strane, ako ipak napišemo nešto kao drugi argument, onda će taj pozdrav koji smo naknadno definiali uzeti primat. Evo kako funkcioniše."
   ]
  },
  {
   "cell_type": "code",
   "execution_count": 116,
   "id": "00d7d163",
   "metadata": {},
   "outputs": [],
   "source": [
    "def zdravo(ime,pozdrav = \"Marka\"):\n",
    "    \"\"\"\n",
    "    Funkcija print pozdrav nekom studentu na času.\n",
    "    \"\"\"\n",
    "    return print(\"Zdravo, {} od {}!\".format(ime,pozdrav))"
   ]
  },
  {
   "cell_type": "code",
   "execution_count": 117,
   "id": "cb1c6441",
   "metadata": {},
   "outputs": [
    {
     "name": "stdout",
     "output_type": "stream",
     "text": [
      "Zdravo, Alex od Marka!\n"
     ]
    }
   ],
   "source": [
    "zdravo(\"Alex\") # Koristi podrazumevani (po difoltu)"
   ]
  },
  {
   "cell_type": "code",
   "execution_count": 119,
   "id": "cdeba388",
   "metadata": {},
   "outputs": [
    {
     "name": "stdout",
     "output_type": "stream",
     "text": [
      "Zdravo, Alex od Milice!\n"
     ]
    }
   ],
   "source": [
    "zdravo(\"Alex\",\"Milice\") #ovde dodajete novi drugi argument "
   ]
  },
  {
   "cell_type": "markdown",
   "id": "3822e981",
   "metadata": {},
   "source": [
    "Vaše funkcije mogu da sadrže i neke matematičke izraze ili bilo koji drugi algoritam u sebi. Na primer, definišimo funkciju moj_koren koja računa kvadratni koren bilo kog broja."
   ]
  },
  {
   "cell_type": "code",
   "execution_count": 36,
   "id": "175dc127",
   "metadata": {},
   "outputs": [],
   "source": [
    "def moj_koren(x):\n",
    "    return x**0.5"
   ]
  },
  {
   "cell_type": "markdown",
   "id": "0bed46d8",
   "metadata": {},
   "source": [
    "Uzmimo je da nađemo kvadratni koren od  108.241\n",
    " :"
   ]
  },
  {
   "cell_type": "code",
   "execution_count": 37,
   "id": "b1e251e5",
   "metadata": {},
   "outputs": [
    {
     "data": {
      "text/plain": [
       "329.0"
      ]
     },
     "execution_count": 37,
     "metadata": {},
     "output_type": "execute_result"
    }
   ],
   "source": [
    "moj_koren(108241)"
   ]
  },
  {
   "cell_type": "markdown",
   "id": "f55633de",
   "metadata": {},
   "source": [
    "Funkcije svakako mogu sadržati i više linija koda. Svaka linija koda će biti jedan korak u programu koji bi trebalo da bude izvršen kada se funkcija pozove. Evo primera, definišimo funkciju moj_koren koja računa koren zadatog broja:"
   ]
  },
  {
   "cell_type": "code",
   "execution_count": 129,
   "id": "beb1849d",
   "metadata": {},
   "outputs": [],
   "source": [
    "def moj_koren(x,n):\n",
    "    r1=1/n\n",
    "    return x**r1"
   ]
  },
  {
   "cell_type": "markdown",
   "id": "279d197b",
   "metadata": {},
   "source": [
    "Kao što vidite iznad, imamo dve linije koda - prva koja računa recipročnu vrednost korena (reda  𝑛\n",
    " ) dok drugi računa odgovarajući koren broja  𝑥\n",
    " . Primetite da smo mogli sve da stavimo u jednu liniju koda, ali bi vrlo uskoro stvari postale sve složenije i složenije i ne biste mogli sve da stavite u jednu liniju koda. Pre nego što nastavimo testirajmo našu funkciju:"
   ]
  },
  {
   "cell_type": "code",
   "execution_count": 130,
   "id": "a319ef24",
   "metadata": {},
   "outputs": [
    {
     "data": {
      "text/plain": [
       "15.000000000000002"
      ]
     },
     "execution_count": 130,
     "metadata": {},
     "output_type": "execute_result"
    }
   ],
   "source": [
    "moj_koren(759375,5)"
   ]
  },
  {
   "cell_type": "markdown",
   "id": "9de2021d",
   "metadata": {},
   "source": [
    "Primetite da je varijabla  𝑟\n",
    "  definisana u funkciji iznad lokalna varijabla. To znači da ona može biti pozvana te funkcije. Ako biste je da je pozovete bilo gde drugde, pokazaće vama grešku. Probajmo to:"
   ]
  },
  {
   "cell_type": "code",
   "execution_count": 131,
   "id": "f4594188",
   "metadata": {},
   "outputs": [
    {
     "ename": "NameError",
     "evalue": "name 'r1' is not defined",
     "output_type": "error",
     "traceback": [
      "\u001b[1;31m---------------------------------------------------------------------------\u001b[0m",
      "\u001b[1;31mNameError\u001b[0m                                 Traceback (most recent call last)",
      "\u001b[1;32m~\\AppData\\Local\\Temp\\ipykernel_17068\\3436527288.py\u001b[0m in \u001b[0;36m<module>\u001b[1;34m\u001b[0m\n\u001b[1;32m----> 1\u001b[1;33m \u001b[0mr1\u001b[0m\u001b[1;33m\u001b[0m\u001b[1;33m\u001b[0m\u001b[0m\n\u001b[0m",
      "\u001b[1;31mNameError\u001b[0m: name 'r1' is not defined"
     ]
    }
   ],
   "source": [
    "r1"
   ]
  },
  {
   "cell_type": "markdown",
   "id": "9ed4c803",
   "metadata": {},
   "source": [
    "Ako hoćete da je definišete tako da može da bude pozvana u celom notebook-u (tj. globalno) trebalo bi da koristite ključnu reč global. Redefinišimo našu funkciju i napravimo od  𝑟\n",
    "  globalnu variablu:"
   ]
  },
  {
   "cell_type": "code",
   "execution_count": 132,
   "id": "970cf4a9",
   "metadata": {},
   "outputs": [],
   "source": [
    "def moj_koren(x,n):\n",
    "    global r2\n",
    "    r2=1/n\n",
    "    return x**r2"
   ]
  },
  {
   "cell_type": "markdown",
   "id": "869f4257",
   "metadata": {},
   "source": [
    "Ako upotrebimo ovu redefinisanu funkciju za pokretanje istog koda, varijabla  𝑟\n",
    "  će postati globalna varijabla i može biti pozvana bilo gde u notebook-u:"
   ]
  },
  {
   "cell_type": "code",
   "execution_count": 133,
   "id": "6d0a32d3",
   "metadata": {},
   "outputs": [
    {
     "data": {
      "text/plain": [
       "15.000000000000002"
      ]
     },
     "execution_count": 133,
     "metadata": {},
     "output_type": "execute_result"
    }
   ],
   "source": [
    "moj_koren(759375,5)"
   ]
  },
  {
   "cell_type": "markdown",
   "id": "2320a5e3",
   "metadata": {},
   "source": [
    "Stoga, mogu napisati nešto nalik ovome i neće prikazati grešku:"
   ]
  },
  {
   "cell_type": "code",
   "execution_count": 134,
   "id": "c4c452f1",
   "metadata": {},
   "outputs": [
    {
     "data": {
      "text/plain": [
       "(0.2, 1.4)"
      ]
     },
     "execution_count": 134,
     "metadata": {},
     "output_type": "execute_result"
    }
   ],
   "source": [
    "r2,r2*2+1"
   ]
  },
  {
   "cell_type": "markdown",
   "id": "8791709f",
   "metadata": {},
   "source": [
    "Možete upotrebiti funkciju input za mnogo elegantnije i mnogo više user friendly pravljenje korisničkih funkcija. Na primer, možete napisati nešto ovako:"
   ]
  },
  {
   "cell_type": "code",
   "execution_count": 135,
   "id": "e3ced1a2",
   "metadata": {},
   "outputs": [],
   "source": [
    "def moj_koren():\n",
    "    x=int(input(\"Unesite broj za koji hoćete da nađete n-ti koren: \"))\n",
    "    n=int(input(\"Navedite kog je reda koren : \"))\n",
    "    r=1/n\n",
    "    return x**r"
   ]
  },
  {
   "cell_type": "markdown",
   "id": "e3014999",
   "metadata": {},
   "source": [
    "Sada, kada je korisnik pokrene, dobiće neke informacije o tome kakvi bi trebalo da budu inputi:"
   ]
  },
  {
   "cell_type": "code",
   "execution_count": 136,
   "id": "101297dd",
   "metadata": {},
   "outputs": [
    {
     "name": "stdout",
     "output_type": "stream",
     "text": [
      "Unesite broj za koji hoćete da nađete n-ti koren: 8\n",
      "Navedite kog je reda koren : 2\n"
     ]
    },
    {
     "data": {
      "text/plain": [
       "2.8284271247461903"
      ]
     },
     "execution_count": 136,
     "metadata": {},
     "output_type": "execute_result"
    }
   ],
   "source": [
    "moj_koren()"
   ]
  },
  {
   "cell_type": "markdown",
   "id": "45485184",
   "metadata": {},
   "source": [
    "**ZADATAK:** Definišite funkciju koja se zove <font color='Blue'><b>polynomial</b></font> koja uzima četiri argumenta: $a$,$b$,$c$ i $x$ i računa vrednost kvadratnog polinoma definisanog kao: $ f(x) = a x^2 + b x + c$, u datoj tački $x$. Upotrebite funkciju za računanje vrednosti polinoma $ f(x) = -x^2 + 2 x + 3$ u nekoliko različitih tačaka (koristite odgovarajuću petlju za to).  \n",
    "<hr style=\"border:2px solid gray\"></hr>"
   ]
  },
  {
   "cell_type": "markdown",
   "id": "9f479a95",
   "metadata": {},
   "source": [
    "**ZADATAK:** Napravite formulu koja će prikazati medijanu liste brojeva: [2,13,16,8,9,11]"
   ]
  },
  {
   "cell_type": "markdown",
   "id": "ac22f0d2",
   "metadata": {},
   "source": [
    "## <font color='orange' style=\"font-size:25px\"><b>Neka osnovna svojstva funkcija u Python-u</b></font> \n",
    "\n",
    "Funkcije u Python-u su **objekti prve klase**, tj. mogu biti: \n",
    "\n",
    "- napravljene u realnom vremenu (runtime);\n",
    "- pripisani varijabli ili elementu u strukturi podataka; \n",
    "- prosleđeni kao argument funkcije;\n",
    "- dobijeni kao rezultat funkcije. "
   ]
  },
  {
   "cell_type": "markdown",
   "id": "ece035e0",
   "metadata": {},
   "source": [
    "Vidimo da funkcije mogu biti napravljene u realnom vremenu (u istom trenutku kada ih izvršavamo). Evo <font color='Blue'><b>factorial</b></font> funkcije. Funkciji pripisujemo vrednost. "
   ]
  },
  {
   "cell_type": "code",
   "execution_count": 50,
   "id": "23324c79",
   "metadata": {},
   "outputs": [
    {
     "name": "stdout",
     "output_type": "stream",
     "text": [
      "120\n",
      "<class 'function'>\n"
     ]
    }
   ],
   "source": [
    "def factorial(n):\n",
    "    '''daje n!'''\n",
    "    return 1 if n < 2 else n * factorial(n-1)\n",
    "\n",
    "print(factorial(5))\n",
    "print(type(factorial)) #funkcije su objekti klase function"
   ]
  },
  {
   "cell_type": "code",
   "execution_count": 51,
   "id": "67f2284f",
   "metadata": {},
   "outputs": [
    {
     "name": "stdout",
     "output_type": "stream",
     "text": [
      "120\n"
     ]
    },
    {
     "data": {
      "text/plain": [
       "<function __main__.factorial(n)>"
      ]
     },
     "execution_count": 51,
     "metadata": {},
     "output_type": "execute_result"
    }
   ],
   "source": [
    "# Funkciji možemo pripisati varijablu\n",
    "fact = factorial \n",
    "print(fact(5))\n",
    "fact"
   ]
  },
  {
   "cell_type": "markdown",
   "id": "55aa608e",
   "metadata": {},
   "source": [
    "### <font color='MediumVioletRed' style=\"font-size:20px\"><b>Funkcije višeg reda</b></font> "
   ]
  },
  {
   "cell_type": "markdown",
   "id": "ec7a832c",
   "metadata": {},
   "source": [
    "Funkcija koja za argument uzima funkciju, ili koja za rezultat daje funkciju je funkcija višeg reda. Jedan primer je funkcija <font color='DodgerBlue'><b>map</b></font>. U primeru ispod, primenjuje <font color='Blue'><b>fact</b></font> na listu brojeva. Naravno, umesto toga možemo koristiti comprehension list.  "
   ]
  },
  {
   "cell_type": "markdown",
   "id": "6055bba1",
   "metadata": {},
   "source": [
    "Budite pažljivi ako samo primenjujete funkciju <font color='DodgerBlue'><b>map</b></font> na sve elemente nekog iteranta, dobićete nešto što se zove **map object**:"
   ]
  },
  {
   "cell_type": "code",
   "execution_count": 52,
   "id": "2117037d",
   "metadata": {},
   "outputs": [
    {
     "name": "stdout",
     "output_type": "stream",
     "text": [
      "<map object at 0x00000263DCC2B910>\n"
     ]
    }
   ],
   "source": [
    "print(map(fact,range(11)))  # Map pravi map objekat (generator objekta)"
   ]
  },
  {
   "cell_type": "markdown",
   "id": "1a0f02f9",
   "metadata": {},
   "source": [
    "Da biste videli vrednosti stavljene u taj objekat, treba da ga transformišete u iterant (na primer u listu): "
   ]
  },
  {
   "cell_type": "code",
   "execution_count": 53,
   "id": "8f704f6e",
   "metadata": {},
   "outputs": [
    {
     "data": {
      "text/plain": [
       "[1, 1, 2, 6, 24, 120, 720, 5040, 40320, 362880, 3628800]"
      ]
     },
     "execution_count": 53,
     "metadata": {},
     "output_type": "execute_result"
    }
   ],
   "source": [
    "list(map(fact,range(11)))  # Da biste videli rezultat, upakujte ga u listu"
   ]
  },
  {
   "cell_type": "markdown",
   "id": "85b740a7",
   "metadata": {},
   "source": [
    "## <font color='orange' style=\"font-size:25px\"><b>Anonimne ili lambda funkcije</b></font> \n",
    "\n",
    "Ključna reč <font color='DarkGreen'><b>lambda</b></font> u Python izrazu pravi anonimnu funkciju. Međutim, Python-ova simple sintax ograničava da body lambda funkcije budu čisti izrazi (pure expressions). Drugim rečima, body lambde ne može da vrši pripisivanja ili koristi bilo koji drugi Python iskaz kao što je while, try itd. "
   ]
  },
  {
   "cell_type": "code",
   "execution_count": 54,
   "id": "1012eae5",
   "metadata": {},
   "outputs": [
    {
     "data": {
      "text/plain": [
       "['jagoda', 'višnja', 'jabuka', 'banana', 'malina', 'šipak']"
      ]
     },
     "execution_count": 54,
     "metadata": {},
     "output_type": "execute_result"
    }
   ],
   "source": [
    "voće = ['jagoda', 'šipak', 'jabuka', 'višnja', 'malina', 'banana']\n",
    "sorted(voće, key=lambda word: word[::-1])"
   ]
  },
  {
   "cell_type": "markdown",
   "id": "dd967f35",
   "metadata": {},
   "source": [
    "Primeniti funkciju $x^2 +3 x - 4$ na listu brojeva od -10 do 10. Postoji više načina kako se to može postići, ali bih ovde da vam pokažem dva. Prvi je da upotrebimo čiste (anonimne/lambda) funkcije pomoću <font color='DodgerBlue'><b>map</b></font>:"
   ]
  },
  {
   "cell_type": "code",
   "execution_count": 55,
   "id": "b1b966d0",
   "metadata": {},
   "outputs": [
    {
     "name": "stdout",
     "output_type": "stream",
     "text": [
      "[66, 50, 36, 24, 14, 6, 0, -4, -6, -6, -4, 0, 6, 14, 24, 36, 50, 66, 84, 104, 126]\n"
     ]
    }
   ],
   "source": [
    "print(list(map(lambda x: (x**2 + 3*x -4), range(-10,11))))"
   ]
  },
  {
   "cell_type": "markdown",
   "id": "d7b176cb",
   "metadata": {},
   "source": [
    "Drugi način je upotrebom list comprehension:"
   ]
  },
  {
   "cell_type": "code",
   "execution_count": 56,
   "id": "8478d64a",
   "metadata": {},
   "outputs": [
    {
     "name": "stdout",
     "output_type": "stream",
     "text": [
      "[66, 50, 36, 24, 14, 6, 0, -4, -6, -6, -4, 0, 6, 14, 24, 36, 50, 66, 84, 104, 126]\n"
     ]
    }
   ],
   "source": [
    "print([(x**2 + 3*x -4) for x in range(-10,11)])"
   ]
  },
  {
   "cell_type": "markdown",
   "id": "b6f09ea2",
   "metadata": {},
   "source": [
    "Uzmimo dve liste jednakih dimenzija. Od tih listi možemo napraviti uređene parove, trojke itd. korišćenjem zip funkcije. Onda možemo, recimo, da saberemo vrednosti svakog para."
   ]
  },
  {
   "cell_type": "code",
   "execution_count": 57,
   "id": "0212c4c0",
   "metadata": {},
   "outputs": [
    {
     "name": "stdout",
     "output_type": "stream",
     "text": [
      "[(0, 20), (1, 19), (2, 18), (3, 17), (4, 16), (5, 15), (6, 14), (7, 13), (8, 12), (9, 11)]\n",
      "[20, 20, 20, 20, 20, 20, 20, 20, 20, 20]\n"
     ]
    }
   ],
   "source": [
    "lista_a = range(10)\n",
    "lista_b = range(20,10,-1)\n",
    "\n",
    "print([(a,b) for (a,b) in zip(lista_a,lista_b)])\n",
    "print([a+b for (a,b) in zip(lista_a,lista_b)])"
   ]
  },
  {
   "cell_type": "markdown",
   "id": "65d538cf",
   "metadata": {},
   "source": [
    "**ZADATAK:** Replikujte isti autput kao iznad upotrebom <font color='DodgerBlue'><b>map</b></font> i lambda funkcija. \n",
    "<hr style=\"border:2px solid gray\"></hr>\t"
   ]
  },
  {
   "cell_type": "code",
   "execution_count": null,
   "id": "3b62b897",
   "metadata": {},
   "outputs": [],
   "source": []
  },
  {
   "cell_type": "markdown",
   "id": "ee27184a",
   "metadata": {},
   "source": [
    "Anonimne funkcije na primer mogu uzeti više od jednog argumenta: \n",
    "    "
   ]
  },
  {
   "cell_type": "code",
   "execution_count": 59,
   "id": "1ceed7e0",
   "metadata": {},
   "outputs": [
    {
     "data": {
      "text/plain": [
       "<function __main__.<lambda>(a, b)>"
      ]
     },
     "execution_count": 59,
     "metadata": {},
     "output_type": "execute_result"
    }
   ],
   "source": [
    "lambda a,b:a+b"
   ]
  },
  {
   "cell_type": "markdown",
   "id": "edc0c9bd",
   "metadata": {},
   "source": [
    "Ako biste da primenite lambda funkciju, onda je potrebno da celu funkciju napišete u zagradama i da u zagradama pored napišete odgovarajuće argumente za koju želite da računate vrednost vaše funkcije. Upotrebimo našu funkciju da bismo izračunali zbir dva broja:"
   ]
  },
  {
   "cell_type": "code",
   "execution_count": 60,
   "id": "3a1f74d0",
   "metadata": {},
   "outputs": [
    {
     "data": {
      "text/plain": [
       "5"
      ]
     },
     "execution_count": 60,
     "metadata": {},
     "output_type": "execute_result"
    }
   ],
   "source": [
    "(lambda a,b:a+b)(2,3)"
   ]
  },
  {
   "cell_type": "markdown",
   "id": "32e39468",
   "metadata": {},
   "source": [
    "Primetite da se lambda funkcija može nazvati. U tom slučaju je ponovo potrebno da definicija funkcije bude u zagradama: "
   ]
  },
  {
   "cell_type": "code",
   "execution_count": 61,
   "id": "7043b72a",
   "metadata": {},
   "outputs": [],
   "source": [
    "f_suma=(lambda a,b:a+b)"
   ]
  },
  {
   "cell_type": "code",
   "execution_count": 62,
   "id": "ae45da16",
   "metadata": {},
   "outputs": [
    {
     "data": {
      "text/plain": [
       "5"
      ]
     },
     "execution_count": 62,
     "metadata": {},
     "output_type": "execute_result"
    }
   ],
   "source": [
    "f_suma(2,3)"
   ]
  },
  {
   "cell_type": "markdown",
   "id": "26657660",
   "metadata": {},
   "source": [
    "### <font color='MediumVioletRed' style=\"font-size:20px\"><b>Variable scope rules - više o lokalnim i globalnim varijablama</b></font> \n",
    "\n",
    "Parametri funkcije su tipično lokalne varijable. To znači da su nevidljivi izvan opsega funkcije. Ispod definišemo i testiramo funkciju koja čita dve varijable: lokalnu varijablu a, definisanu kao parametar funkcije i varijablu b koja nije definisana bilo gde u funkciji. Stoga, to je takozvani slobodni parametar. "
   ]
  },
  {
   "cell_type": "code",
   "execution_count": 63,
   "id": "55156b54",
   "metadata": {},
   "outputs": [],
   "source": [
    "def f1(a):\n",
    "    print(a)\n",
    "    print(b)"
   ]
  },
  {
   "cell_type": "markdown",
   "id": "1feea6c6",
   "metadata": {},
   "source": [
    "Primetite da se funkcija <font color='Blue'><b>f1</b></font> ne završava ključnom rečju <font color='DarkGreen'><b>return</b></font>. Možete je izostaviti iz definicije funkcije samo ako ćete da print nešto kao autput vaše funkcije. U tom slučaju potrebno je napisati željeni autput unutar funkcije <font color='DodgerBlue'><b>print</b></font>!\n",
    "\n",
    "Ako pokrenemo kod ispod, pokazaće nam grešku jer varijabla b nije definisana svuda. "
   ]
  },
  {
   "cell_type": "code",
   "execution_count": 64,
   "id": "a5ff80a9",
   "metadata": {},
   "outputs": [
    {
     "name": "stdout",
     "output_type": "stream",
     "text": [
      "3\n"
     ]
    },
    {
     "ename": "NameError",
     "evalue": "name 'b' is not defined",
     "output_type": "error",
     "traceback": [
      "\u001b[1;31m---------------------------------------------------------------------------\u001b[0m",
      "\u001b[1;31mNameError\u001b[0m                                 Traceback (most recent call last)",
      "\u001b[1;32m~\\AppData\\Local\\Temp\\ipykernel_17068\\1677999450.py\u001b[0m in \u001b[0;36m<module>\u001b[1;34m\u001b[0m\n\u001b[1;32m----> 1\u001b[1;33m \u001b[0mf1\u001b[0m\u001b[1;33m(\u001b[0m\u001b[1;36m3\u001b[0m\u001b[1;33m)\u001b[0m\u001b[1;33m\u001b[0m\u001b[1;33m\u001b[0m\u001b[0m\n\u001b[0m",
      "\u001b[1;32m~\\AppData\\Local\\Temp\\ipykernel_17068\\1504256217.py\u001b[0m in \u001b[0;36mf1\u001b[1;34m(a)\u001b[0m\n\u001b[0;32m      1\u001b[0m \u001b[1;32mdef\u001b[0m \u001b[0mf1\u001b[0m\u001b[1;33m(\u001b[0m\u001b[0ma\u001b[0m\u001b[1;33m)\u001b[0m\u001b[1;33m:\u001b[0m\u001b[1;33m\u001b[0m\u001b[1;33m\u001b[0m\u001b[0m\n\u001b[0;32m      2\u001b[0m     \u001b[0mprint\u001b[0m\u001b[1;33m(\u001b[0m\u001b[0ma\u001b[0m\u001b[1;33m)\u001b[0m\u001b[1;33m\u001b[0m\u001b[1;33m\u001b[0m\u001b[0m\n\u001b[1;32m----> 3\u001b[1;33m     \u001b[0mprint\u001b[0m\u001b[1;33m(\u001b[0m\u001b[0mb\u001b[0m\u001b[1;33m)\u001b[0m\u001b[1;33m\u001b[0m\u001b[1;33m\u001b[0m\u001b[0m\n\u001b[0m",
      "\u001b[1;31mNameError\u001b[0m: name 'b' is not defined"
     ]
    }
   ],
   "source": [
    "f1(3)"
   ]
  },
  {
   "cell_type": "markdown",
   "id": "52a7a8f8",
   "metadata": {},
   "source": [
    "Ako globalnoj varijabli *b* pripišemo vrednost i onda pozovemo <font color='Blue'><b>f1</b></font>, to radi. Greška se dešava zato što *b* nije tretirano kao lokalna varijabla, s obzirom da nije definisano u body-u funkcije. "
   ]
  },
  {
   "cell_type": "code",
   "execution_count": 65,
   "id": "354f5e1f",
   "metadata": {},
   "outputs": [
    {
     "name": "stdout",
     "output_type": "stream",
     "text": [
      "3\n",
      "6\n"
     ]
    }
   ],
   "source": [
    "b = 6\n",
    "f1(3)"
   ]
  },
  {
   "cell_type": "markdown",
   "id": "6767012d",
   "metadata": {},
   "source": [
    "Hajde sada da vidimo jedan primer koji vas može iznenaditi. Uzmimo funkciju <font color='Blue'><b>f2</b></font>. Njena prva dva reda su ista kao <font color='Blue'><b>f1</b></font>. Onda pripisuje nešt za b i radi print njene vrednosti. Ali ne uspeva da izvrši drugi print, pre nego što je pripisivanje vrednosti urađeno: "
   ]
  },
  {
   "cell_type": "code",
   "execution_count": 66,
   "id": "11d56d83",
   "metadata": {},
   "outputs": [],
   "source": [
    "b = 6\n",
    "def f2(a):\n",
    "    print(a)\n",
    "    print(b)\n",
    "    b = a**2"
   ]
  },
  {
   "cell_type": "markdown",
   "id": "c7c8902a",
   "metadata": {},
   "source": [
    "Ovo će pokazati grešku, jer je varijabla *b* lokalna, zbog toga što je pripisana kao vrednost unutar body-a funkcije. Kako hoćete da pozovete lokalnu varijablu *b* pre nego što smo joj pripisali njenu vrednost u body funkcije, Python će vas upozoriti da sintaksa nije ispravna. "
   ]
  },
  {
   "cell_type": "code",
   "execution_count": 67,
   "id": "14fb1827",
   "metadata": {},
   "outputs": [
    {
     "name": "stdout",
     "output_type": "stream",
     "text": [
      "3\n"
     ]
    },
    {
     "ename": "UnboundLocalError",
     "evalue": "local variable 'b' referenced before assignment",
     "output_type": "error",
     "traceback": [
      "\u001b[1;31m---------------------------------------------------------------------------\u001b[0m",
      "\u001b[1;31mUnboundLocalError\u001b[0m                         Traceback (most recent call last)",
      "\u001b[1;32m~\\AppData\\Local\\Temp\\ipykernel_17068\\3034322651.py\u001b[0m in \u001b[0;36m<module>\u001b[1;34m\u001b[0m\n\u001b[1;32m----> 1\u001b[1;33m \u001b[0mf2\u001b[0m\u001b[1;33m(\u001b[0m\u001b[1;36m3\u001b[0m\u001b[1;33m)\u001b[0m\u001b[1;33m\u001b[0m\u001b[1;33m\u001b[0m\u001b[0m\n\u001b[0m",
      "\u001b[1;32m~\\AppData\\Local\\Temp\\ipykernel_17068\\2929169816.py\u001b[0m in \u001b[0;36mf2\u001b[1;34m(a)\u001b[0m\n\u001b[0;32m      2\u001b[0m \u001b[1;32mdef\u001b[0m \u001b[0mf2\u001b[0m\u001b[1;33m(\u001b[0m\u001b[0ma\u001b[0m\u001b[1;33m)\u001b[0m\u001b[1;33m:\u001b[0m\u001b[1;33m\u001b[0m\u001b[1;33m\u001b[0m\u001b[0m\n\u001b[0;32m      3\u001b[0m     \u001b[0mprint\u001b[0m\u001b[1;33m(\u001b[0m\u001b[0ma\u001b[0m\u001b[1;33m)\u001b[0m\u001b[1;33m\u001b[0m\u001b[1;33m\u001b[0m\u001b[0m\n\u001b[1;32m----> 4\u001b[1;33m     \u001b[0mprint\u001b[0m\u001b[1;33m(\u001b[0m\u001b[0mb\u001b[0m\u001b[1;33m)\u001b[0m\u001b[1;33m\u001b[0m\u001b[1;33m\u001b[0m\u001b[0m\n\u001b[0m\u001b[0;32m      5\u001b[0m     \u001b[0mb\u001b[0m \u001b[1;33m=\u001b[0m \u001b[0ma\u001b[0m\u001b[1;33m**\u001b[0m\u001b[1;36m2\u001b[0m\u001b[1;33m\u001b[0m\u001b[1;33m\u001b[0m\u001b[0m\n",
      "\u001b[1;31mUnboundLocalError\u001b[0m: local variable 'b' referenced before assignment"
     ]
    }
   ],
   "source": [
    "f2(3)"
   ]
  },
  {
   "cell_type": "markdown",
   "id": "8b0f3097",
   "metadata": {},
   "source": [
    "Primetite da autput počinje sa 3, što dokazuje da je <font color='DodgerBlue'><b>print</b></font>(a) izvršen. Ali, drugi - <font color='DodgerBlue'><b>print</b></font>(b) ne biva pokrenut. Stvar je u tom što Python kompajlira (compiles) body funkcije, Python odlučuje da je b lokalna varijabla jer je pripisana u okviru funkcije. \n",
    "\n",
    "Naravno, tačna sintaksa bi bila:"
   ]
  },
  {
   "cell_type": "code",
   "execution_count": 1,
   "id": "847c6e6d",
   "metadata": {},
   "outputs": [],
   "source": [
    "def f2(a):\n",
    "    print(a)\n",
    "    b = a**2\n",
    "    print(b)"
   ]
  },
  {
   "cell_type": "markdown",
   "id": "48f84b10",
   "metadata": {},
   "source": [
    "U ovom slučaju neće biti nikakve greške:"
   ]
  },
  {
   "cell_type": "code",
   "execution_count": 2,
   "id": "aa58b007",
   "metadata": {},
   "outputs": [
    {
     "name": "stdout",
     "output_type": "stream",
     "text": [
      "3\n",
      "9\n"
     ]
    }
   ],
   "source": [
    "f2(3)"
   ]
  },
  {
   "cell_type": "markdown",
   "id": "3e805de1",
   "metadata": {},
   "source": [
    "Ovako nešto nije bag, nego način izbora: Python ne traži da deklarišete varijablu, već pretpostavlja da je varijabla pripisana u body-u funkcije lokalna. Ako bismo pak hteli da Python nju (b)tretira kao globalna varijablu, iako je pripisana u okviru funkcije, onda koristimo global deklaraciju."
   ]
  },
  {
   "cell_type": "code",
   "execution_count": 70,
   "id": "380d8277",
   "metadata": {},
   "outputs": [],
   "source": [
    "b = 6\n",
    "def f3(a):\n",
    "    global b\n",
    "    print(a)\n",
    "    print(b)\n",
    "    b = a**2"
   ]
  },
  {
   "cell_type": "markdown",
   "id": "fb090117",
   "metadata": {},
   "source": [
    "Hajde da vidimo šta se dešava nakon što smo napravili ovu izmenu u okviru same definicije funkcije:"
   ]
  },
  {
   "cell_type": "code",
   "execution_count": 71,
   "id": "53e72b64",
   "metadata": {},
   "outputs": [
    {
     "name": "stdout",
     "output_type": "stream",
     "text": [
      "3\n",
      "6\n"
     ]
    }
   ],
   "source": [
    "f3(3)"
   ]
  },
  {
   "cell_type": "markdown",
   "id": "da41d52b",
   "metadata": {},
   "source": [
    "Primetite da otkako je *b* <font color='DarkGreen'><b>global</b></font>, i b varijabli je inicijalno pripisana vrednost $6$, <font color='DodgerBlue'><b>print</b></font>(b) daje $6$. Ali, sada, u sledećem redu *b* je promenjeno u $9$ (s obzirom da je $3^2=9$). Kako je *b* definisano kao <font color='DarkGreen'><b>global</b></font>, to će takođe uticati na *b* i izvan funkcije. Stoga, kada koristimo istu funkciju opet, dobićemo novu vrednost. "
   ]
  },
  {
   "cell_type": "code",
   "execution_count": 72,
   "id": "97238714",
   "metadata": {},
   "outputs": [
    {
     "name": "stdout",
     "output_type": "stream",
     "text": [
      "9\n",
      "3\n",
      "9\n"
     ]
    }
   ],
   "source": [
    "print(b)\n",
    "f3(3)"
   ]
  },
  {
   "cell_type": "markdown",
   "id": "7bc85a5f",
   "metadata": {},
   "source": [
    "### <font color='MediumVioletRed' style=\"font-size:20px\"><b>Inner functions - Funkcije definisane unutar funkcija</b></font> \n",
    "\n",
    "Moguće je definisati funkciju unutar neke druge funkcije. Takve funkcije se zovu **inner functions (unutrašnje funkcije)**. Evo primerajedne funkcije sa dve inner funkcije. "
   ]
  },
  {
   "cell_type": "code",
   "execution_count": 73,
   "id": "0825c38e",
   "metadata": {},
   "outputs": [],
   "source": [
    "def parent():\n",
    "    print(\"Daje print iz parent() funkcije\")\n",
    "\n",
    "    def prva_child():\n",
    "        print(\"Daje print iz prva_child() funkcije\")\n",
    "\n",
    "    def druga_child():\n",
    "        print(\"Daje print iz prva_child() funkcije\")\n",
    "\n",
    "    druga_child() #ovo pozivanje je unutar definisanosti funkcije \n",
    "    prva_child()"
   ]
  },
  {
   "cell_type": "markdown",
   "id": "297082c5",
   "metadata": {},
   "source": [
    "Primetite da je redosled, kojim su inner funkcije definisane, nije bitan. Kao i sa svim drugim funkcijama, print se događa samo onda kada inner funkcije izvršene (executed). Šta više, **inner funkcije nisu definisane sve dok se parent funkcija ne pozove**. One lokalno pripadaju <font color='Blue'><b>parent</b></font>-u: Postoje samo unutar <font color='Blue'><b>parent</b></font> funkcije kao lokalne varijable.  "
   ]
  },
  {
   "cell_type": "code",
   "execution_count": 74,
   "id": "f9f66b11",
   "metadata": {},
   "outputs": [
    {
     "name": "stdout",
     "output_type": "stream",
     "text": [
      "Daje print iz parent() funkcije\n",
      "Daje print iz prva_child() funkcije\n",
      "Daje print iz prva_child() funkcije\n"
     ]
    }
   ],
   "source": [
    "parent()"
   ]
  },
  {
   "cell_type": "markdown",
   "id": "fab012d5",
   "metadata": {},
   "source": [
    "Kako su inner funkcije lokalne, ako pokušate da izvršite <font color='Blue'><b>prva_child</b></font>, izbaciće vam grešku - <font color=\"Red\">not defined outside of the parent() scope</font> (stoga, sve je isto kao i u slučaju varijabli). "
   ]
  },
  {
   "cell_type": "code",
   "execution_count": 75,
   "id": "fa57f5b1",
   "metadata": {},
   "outputs": [
    {
     "ename": "NameError",
     "evalue": "name 'first_child' is not defined",
     "output_type": "error",
     "traceback": [
      "\u001b[1;31m---------------------------------------------------------------------------\u001b[0m",
      "\u001b[1;31mNameError\u001b[0m                                 Traceback (most recent call last)",
      "\u001b[1;32m~\\AppData\\Local\\Temp\\ipykernel_17068\\2276402280.py\u001b[0m in \u001b[0;36m<module>\u001b[1;34m\u001b[0m\n\u001b[1;32m----> 1\u001b[1;33m \u001b[0mfirst_child\u001b[0m\u001b[1;33m(\u001b[0m\u001b[1;33m)\u001b[0m\u001b[1;33m\u001b[0m\u001b[1;33m\u001b[0m\u001b[0m\n\u001b[0m",
      "\u001b[1;31mNameError\u001b[0m: name 'first_child' is not defined"
     ]
    }
   ],
   "source": [
    "first_child()"
   ]
  },
  {
   "cell_type": "markdown",
   "id": "e2f270dc",
   "metadata": {},
   "source": [
    "Ovde imamo jedan finansijski primer. Definišimo funkciju koja će da računa cenu kuponske obveznice, a druga inner funkcija unutar nje, računa diskontovane novčane tokove koji se dešavaju u vremenskom trenutku $t$. Ideja je da koristimo inner funkciju za generisanje liste novčanih tokova. Autput spoljne (outer) funkcije će biti suma diskontovanih novčanih tokova (koja je naravno, cena obveznice): "
   ]
  },
  {
   "cell_type": "code",
   "execution_count": 76,
   "id": "39306d05",
   "metadata": {},
   "outputs": [],
   "source": [
    "def obveznica(f,c,i,T):\n",
    "    C=c*f\n",
    "    ig=1+i\n",
    "    def dcf(t):       \n",
    "        if t<T:\n",
    "            return C/(ig**t)\n",
    "        else:\n",
    "            return (C+f)/(ig**T)\n",
    "    return round(sum([dcf(t) for t in range(1,T+1)]),3)"
   ]
  },
  {
   "cell_type": "markdown",
   "id": "d3a18396",
   "metadata": {},
   "source": [
    "Testirajmo našu funkciju na par obveznici:"
   ]
  },
  {
   "cell_type": "code",
   "execution_count": 77,
   "id": "a6475fbe",
   "metadata": {},
   "outputs": [
    {
     "data": {
      "text/plain": [
       "100.0"
      ]
     },
     "execution_count": 77,
     "metadata": {},
     "output_type": "execute_result"
    }
   ],
   "source": [
    "obveznica(100,0.05,0.05,15)"
   ]
  },
  {
   "cell_type": "markdown",
   "id": "ede40e30",
   "metadata": {},
   "source": [
    "Kad smo već ovde, želim da vam pokažem jednu ključnu reč <font color='DarkGreen'><b>nonlocal</b></font>. Ponekad i u inner i u outer funkciji možete imati istoimenu varijablu. Ako ne naznačite drugačije, inner funkcija će uzeti u obzir samo vrednost definisanu u sklopu njenog body-a: "
   ]
  },
  {
   "cell_type": "code",
   "execution_count": 79,
   "id": "c7bdb4a5",
   "metadata": {},
   "outputs": [
    {
     "name": "stdout",
     "output_type": "stream",
     "text": [
      "inner: 2\n",
      "outer: 1\n"
     ]
    }
   ],
   "source": [
    "def outer():\n",
    "    x = 1\n",
    "    def inner():\n",
    "        x = 2\n",
    "        print(\"inner:\", x)\n",
    "\n",
    "    inner()\n",
    "    print(\"outer:\", x)\n",
    "\n",
    "outer()"
   ]
  },
  {
   "cell_type": "markdown",
   "id": "2797864f",
   "metadata": {},
   "source": [
    "Međutim, ovo možete promeniti preko ključne reči <font color='DarkGreen'><b>nonlocal</b></font>. Ono ''govori'' Python-u da koristi outer definiciju varijable o kojoj je reč. Ali, ako dalje u kodu promenimo definiciju ove varijable, ta promena će uticati i na outer i na inner outer-funkcije: "
   ]
  },
  {
   "cell_type": "code",
   "execution_count": 80,
   "id": "8cd55b8d",
   "metadata": {},
   "outputs": [
    {
     "name": "stdout",
     "output_type": "stream",
     "text": [
      "inner: 2\n",
      "outer: 2\n"
     ]
    }
   ],
   "source": [
    "def outer():\n",
    "    x = 1\n",
    "    def inner():\n",
    "        nonlocal x\n",
    "        x = 2\n",
    "        print(\"inner:\", x)\n",
    "\n",
    "    inner()\n",
    "    print(\"outer:\", x)\n",
    "\n",
    "outer()"
   ]
  },
  {
   "cell_type": "markdown",
   "id": "88325731",
   "metadata": {},
   "source": [
    "Uočite da <font color='DarkGreen'><b>nonlocal</b></font> i <font color='DarkGreen'><b>global</b></font> nisu ista stvar. Ključna reč <font color='DarkGreen'><b>global</b></font> traži varijablu u global dictionary svih globalno definisanih varijabli, dok <font color='DarkGreen'><b>nonlocal</b></font> pretražuje varijable u gornjem sloju funkcije (tj. u outer funkciji)."
   ]
  },
  {
   "cell_type": "markdown",
   "id": "d31c6126",
   "metadata": {},
   "source": [
    "**ZADATAK:** Napišite funkciju koja računa varijansu populacije, definišući funkciju za ar. sredinu kao inner funkciju unutar body-a funkcije za varijansu. Testirajte dobijenu funkciju na VIX podacima datim u listi ispod. "
   ]
  },
  {
   "cell_type": "code",
   "execution_count": 81,
   "id": "97b3d052",
   "metadata": {},
   "outputs": [],
   "source": [
    "vix=[9.22,9.52,10.08,9.82,9.88,10.16,11.66,11.91,12.02,11.27,11.03,11.1,11.47,11.58,11.08,13.84,14.79,13.54,13.47,17.31,39.32]"
   ]
  },
  {
   "cell_type": "code",
   "execution_count": null,
   "id": "40b6ead0",
   "metadata": {},
   "outputs": [],
   "source": []
  },
  {
   "cell_type": "code",
   "execution_count": null,
   "id": "c4249cfb",
   "metadata": {},
   "outputs": [],
   "source": []
  }
 ],
 "metadata": {
  "kernelspec": {
   "display_name": "Python 3 (ipykernel)",
   "language": "python",
   "name": "python3"
  },
  "language_info": {
   "codemirror_mode": {
    "name": "ipython",
    "version": 3
   },
   "file_extension": ".py",
   "mimetype": "text/x-python",
   "name": "python",
   "nbconvert_exporter": "python",
   "pygments_lexer": "ipython3",
   "version": "3.9.13"
  }
 },
 "nbformat": 4,
 "nbformat_minor": 5
}

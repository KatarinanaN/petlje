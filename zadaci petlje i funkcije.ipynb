{
 "cells": [
  {
   "cell_type": "markdown",
   "id": "d89d7cfa",
   "metadata": {},
   "source": [
    "<font color='DarkViolet ' style=\"font-size:25px\"><b>Zadatak br. 1 - Sadašnja vrednost kuponska obveznica</b></font>"
   ]
  },
  {
   "cell_type": "markdown",
   "id": "e75a52a6",
   "metadata": {},
   "source": [
    "Kuponska obveznica je instrument koji na kraju svakog perioda plaća fiksni kupon do roka dospeća, a o roku dospeća plaća glavnicu (tj. nominalnu vrednost) i kupon. Uzmimo da kupon obveznica isplaćuje kupon po stopi od 6% godišnje, ima nominalnu vrednost 100\\\\$ i njen period dospeća je 10 godina. To znači da obveznica 9 godina plaća po 6 \\\\$ a u godini 10 plaća 106 \\\\$."
   ]
  },
  {
   "cell_type": "markdown",
   "id": "8f617f52",
   "metadata": {},
   "source": [
    "a) Koristeći <font color='DarkGreen'><b>if</b></font> iskaz i <font color='DarkGreen'><b>for</b></font> petlju napravite listu novčanih tokova ove obveznice."
   ]
  },
  {
   "cell_type": "code",
   "execution_count": null,
   "id": "a6d83249",
   "metadata": {},
   "outputs": [],
   "source": []
  },
  {
   "cell_type": "markdown",
   "id": "e5fc2dc5",
   "metadata": {},
   "source": [
    "b) Pretpostavimo da ste izračunali diskontne faktore za svaku godinu i da su oni dati u listi ispod:"
   ]
  },
  {
   "cell_type": "code",
   "execution_count": 2,
   "id": "689a740a",
   "metadata": {},
   "outputs": [],
   "source": [
    "df_list=[0.95057, 0.907029, 0.86631, 0.792094, 0.736773, 0.662618, 0.614662, 0.54834, 0.55317, 0.662709]"
   ]
  },
  {
   "cell_type": "markdown",
   "id": "980593b0",
   "metadata": {},
   "source": [
    "Iskoristite listu diskontnih faktora i listu novčanih tokova obveznice dobijenu u prethodnom delu zadatka da dobijete listu diskontovanih novčanih tokova. Da vas podsetimo - diskontovani novčani tok je proizvod novčanog toka i diskontnog faktora."
   ]
  },
  {
   "cell_type": "code",
   "execution_count": null,
   "id": "96b91c8a",
   "metadata": {},
   "outputs": [],
   "source": []
  },
  {
   "cell_type": "markdown",
   "id": "68e09bca",
   "metadata": {},
   "source": [
    "c) Saberite sve diskontovane novčane tokove funkcijom <font color='DodgerBlue'><b>sum</b></font>. Vrednost koju ćete dobiti je fer vrednost (cena) obveznice. Ako se obveznica trenutno prodaje na tržištu po par vrednosti (to je: njena cena je jednaka njenoj nominalnoj vrednosti od 100 \\$), da li je onda ona pogrešno procenjena i u kom smeru (precenjena ili podcenjena)? Da li biste je kupili? Zašto da/zašto ne? "
   ]
  },
  {
   "cell_type": "code",
   "execution_count": null,
   "id": "f7c8e737",
   "metadata": {},
   "outputs": [],
   "source": []
  },
  {
   "cell_type": "markdown",
   "id": "fb6b98e1",
   "metadata": {},
   "source": [
    "<font color='DarkViolet ' style=\"font-size:25px\"><b>Zadatak br. 2</b></font>"
   ]
  },
  {
   "cell_type": "markdown",
   "id": "f472f690",
   "metadata": {},
   "source": [
    "a) Uvezite paket <font color='mediumseagreen'><b>csv</b></font> (ovo je veoma značajan modul kada iz Python-a želite da izvezete podatke u csv-u):"
   ]
  },
  {
   "cell_type": "code",
   "execution_count": 13,
   "id": "ac8c3ec8",
   "metadata": {},
   "outputs": [],
   "source": [
    "import csv"
   ]
  },
  {
   "cell_type": "markdown",
   "id": "00bbdea0",
   "metadata": {},
   "source": [
    "b) Koristite funkciju <font color='DodgerBlue'><b>open</b></font> da unesete csv fajl 'AMZN1.csv' koji sadrži podatke o Amazonovim dnevnim cenama akcija.Ima samo jedan zahtevani argument - string koji je zapravo pun naziv fajla koji želite da otvorite (u našem slučaju: 'AMZN1.csv'). Zapamtite otvoreni fajl kao varijablu. Nakon toga, koristite metod <font color='DeepPink'><b>read</b></font> kako biste videli njegov sadržaj. To će biti jedan veoma veliki string. "
   ]
  },
  {
   "cell_type": "code",
   "execution_count": 2,
   "id": "5822f010",
   "metadata": {},
   "outputs": [
    {
     "data": {
      "text/plain": [
       "'Prices\\n1922.189941\\n1934.310059\\n1939\\n1942.910034\\n1952.319946\\n1988.300049\\n2017.410034\\n2001.069946\\n2011\\n2020.98999\\n2009.900024\\n1992.030029\\n1977.900024\\n1964.52002\\n1985.630005\\n1994.48999\\n2000.810059\\n1973.819946\\n1943.050049\\n1912.449951\\n1898.530029\\n1866.780029\\n1855.319946\\n1823.23999\\n1765.130005\\n1787.829956\\n1793.400024\\n1832.890015\\n1807.579956\\n1784.920044\\n1824.339966\\n1762.959961\\n1776.119995\\n1792.569946\\n1816.119995\\n1801.380005\\n1823.540039\\n1804.660034\\n1749.619995\\n1768.869995\\n1761.829956\\n1764.25\\n1786.400024\\n1776.290039\\n1789.839966\\n1800.619995\\n1840.719971\\n1833.51001\\n1831.349976\\n1820.550049\\n1822.98999\\n1843.550049\\n1839.339966\\n1807.839966\\n1822.550049\\n1817.459961\\n1821.5\\n1794.160034\\n1785.300049\\n1741.609985\\n1768.329956\\n1739.839966\\n1725.449951\\n1735.910034\\n1735.650024\\n1713.22998\\n1724.420044\\n1739.650024\\n1732.660034\\n1705.51001\\n1721.98999\\n1720.26001\\n1731.920044\\n1736.430054\\n1767.380005\\n1777.430054\\n1787.47998\\n1757.51001\\n1785.660034\\n1765.72998\\n1762.170044\\n1780.780029\\n1761.329956\\n1777.079956\\n1762.709961\\n1779.98999\\n1776.660034\\n1791.439941\\n1804.660034\\n1801.709961\\n1795.77002\\n1788.199951\\n1785.880005\\n1771.650024\\n1778\\n1753.109985\\n1754.599976\\n1739.48999\\n1752.530029\\n1752.790039\\n1745.530029\\n1734.709961\\n1745.719971\\n1773.839966\\n1796.939941\\n1818.51001\\n1800.800049\\n1781.599976\\n1769.959961\\n1760.689941\\n1740.47998\\n1751.599976\\n1749.51001\\n1739.209961\\n1748.719971\\n1760.329956\\n1760.939941\\n1769.209961\\n1790.660034\\n1784.030029\\n1792.280029\\n1786.5\\n1793\\n1789.209961\\n1868.77002\\n1869.800049\\n1846.890015\\n1847.839966\\n1898.01001\\n1874.969971\\n1902.880005\\n1906.859985\\n1891.969971\\n1901.050049\\n1883.160034\\n1891.300049\\n1869.439941\\n1862.02002\\n1877.939941\\n1864.719971\\n1892\\n1887.459961\\n1884.579956\\n1861.640015\\n1828.339966\\n1853.25\\n1858\\n1870.680054\\n2008.719971\\n2004.199951\\n2049.669922\\n2039.869995\\n2050.22998\\n2079.280029\\n2133.909912\\n2150.800049\\n2160\\n2149.870117\\n2134.870117\\n2155.669922\\n2170.219971\\n2153.100098\\n2095.969971\\n2009.290039\\n1972.73999\\n1979.589966\\n1884.300049\\n1883.75\\n1953.949951\\n1908.98999\\n1975.829956\\n1924.030029\\n1901.089966\\n1800.609985\\n1891.819946\\n1820.859985\\n1676.609985\\n1785\\n1689.150024\\n1807.839966\\n1830\\n1880.930054\\n1846.089966\\n1902.829956\\n1940.099976\\n1885.839966\\n1955.48999\\n1900.099976\\n1963.949951\\n1949.719971\\n1907.699951\\n1918.829956\\n1906.589966\\n1997.589966\\n2011.599976\\n2043\\n2042.76001\\n2168.870117\\n2283.320068\\n2307.679932\\n2408.189941\\n2375\\n2393.610107\\n2328.120117\\n2363.48999\\n2399.449951\\n2410.219971\\n2376\\n2314.080078\\n2372.709961\\n2474\\n2286.040039\\n2315.98999\\n2317.800049\\n2351.26001\\n2367.610107\\n2379.610107\\n2409\\n2356.949951\\n2367.919922\\n2388.850098\\n2409.780029\\n2426.26001\\n2449.330078\\n2497.939941\\n2446.73999\\n2436.879883\\n2421.860107\\n2410.389893\\n2401.100098\\n2442.370117\\n2471.040039\\n2472.409912\\n2478.399902\\n2460.600098\\n2483\\n2524.060059\\n2600.860107\\n2647.449951\\n2557.959961\\n2545.02002\\n2572.679932\\n2615.27002\\n2640.97998\\n2653.97998\\n2675.01001\\n2713.820068\\n2764.409912\\n2734.399902\\n2754.580078\\n2692.870117\\n2680.379883\\n'"
      ]
     },
     "execution_count": 2,
     "metadata": {},
     "output_type": "execute_result"
    }
   ],
   "source": [
    "f=open(r'ovde unesite path za vas fajl')\n",
    "string=f.read()\n",
    "string"
   ]
  },
  {
   "cell_type": "markdown",
   "id": "d3f3fa1e",
   "metadata": {},
   "source": [
    "c) Razdvojite string na svaki '\\n' znak. Prvi element liste koji ćete dobiti je zaglavlje, dok je poslednji element prazan string. Izbacite ih. Takvu listu nazovite **cene_str**. Prikažite sadržaj **cene_str**. "
   ]
  },
  {
   "cell_type": "code",
   "execution_count": null,
   "id": "00fe8347",
   "metadata": {},
   "outputs": [],
   "source": []
  },
  {
   "cell_type": "markdown",
   "id": "cc068589",
   "metadata": {},
   "source": [
    "d) Koristite for petlju da transformišete sve elemente prethodne liste u float-ove i stavite ih u novu listu koja ćete nazvati cene:"
   ]
  },
  {
   "cell_type": "code",
   "execution_count": null,
   "id": "62b29d59",
   "metadata": {},
   "outputs": [],
   "source": []
  },
  {
   "cell_type": "markdown",
   "id": "44a8dc50",
   "metadata": {},
   "source": [
    "e) Koristite <font color='DarkGreen'><b>for</b></font> petlju da biste napravili listu prinosa od liste cena. Prinosi su procentualna promena cena akcija između dva sukcesivna vremenska perioda (tj. dana). Ako je u trenutku $t$ cena $P_t$, onda su prinosi računati kao:\n",
    "\n",
    "$$r_t=\\frac{P_t-P_{t-1}}{P_{t-1}}$$"
   ]
  },
  {
   "cell_type": "markdown",
   "id": "2049269b",
   "metadata": {},
   "source": [
    "*Jednom* kada napravite listu prinosa, dodajte joj string: \"NA\", tj. stavite na nultu poziciju \"NA\". Nazovite novu listu **ret**."
   ]
  },
  {
   "cell_type": "code",
   "execution_count": null,
   "id": "d2d080b4",
   "metadata": {},
   "outputs": [],
   "source": []
  },
  {
   "cell_type": "markdown",
   "id": "0deb981f",
   "metadata": {},
   "source": [
    "f) Ponovo ćete morati da koristite <font color='DarkGreen'><b>for</b></font> petlju, ali sada da biste napravili listu kumulativnih prinosa. Oni se dobijaju kada se sve cene podele sa prvom cenom u seriji, tj. \n",
    "\n",
    "$$cr_t=\\frac{P_t}{P_0}$$"
   ]
  },
  {
   "cell_type": "markdown",
   "id": "7732c4b2",
   "metadata": {},
   "source": [
    "Nazovite listu **cret**."
   ]
  },
  {
   "cell_type": "code",
   "execution_count": null,
   "id": "8ac4ca8b",
   "metadata": {},
   "outputs": [],
   "source": []
  },
  {
   "cell_type": "markdown",
   "id": "8c5ed1d5",
   "metadata": {},
   "source": [
    "g) Unesite zaglavlje na prvo mesto u sve tri liste. Odgovarajuće zaglavlje su: 'Prices', 'Returns' i 'Cumulative Returns'. "
   ]
  },
  {
   "cell_type": "code",
   "execution_count": null,
   "id": "f79197f6",
   "metadata": {},
   "outputs": [],
   "source": []
  },
  {
   "cell_type": "markdown",
   "id": "baa04ccf",
   "metadata": {},
   "source": [
    "h) Kako bismo grupisali sve tri liste zajedno u redovima (tj. listu uređenih n-torki gde je prvi element iz prve liste, drugi iz drzge i treći iz treće liste) koristimo funkciju <font color='DodgerBlue'><b>zip</b></font>. Nazovite autput **podaci**."
   ]
  },
  {
   "cell_type": "code",
   "execution_count": null,
   "id": "359a8628",
   "metadata": {},
   "outputs": [],
   "source": []
  },
  {
   "cell_type": "markdown",
   "id": "bb5c1a34",
   "metadata": {},
   "source": [
    "i) Kreirajte novi csv fajl koji se zove 'AMZN2.csv'. Još jednom ćete koristiti funkciju <font color='DodgerBlue'><b>open</b></font>. Stavite puno ime fajla koji želite da napravite kao prvi argument i dodajte opcioni parametar \"w\" pored imena tog fajla. U tom slučaju Python-u dajete naznaku da ne želite da čitate kreirani fajla, ali biste pre nešto da napišete u njemu. "
   ]
  },
  {
   "cell_type": "code",
   "execution_count": 11,
   "id": "65cb2409",
   "metadata": {},
   "outputs": [],
   "source": [
    "f2=open(r'ovde unesite path gde zalite da se nalazi vas novi fajl i ime fajla sa nastavkom .csv','w')"
   ]
  },
  {
   "cell_type": "markdown",
   "id": "7401d32c",
   "metadata": {},
   "source": [
    "j) Najzad, koristite funkciju <font color='DodgerBlue'><b>csv.writer</b></font> da biste omogućili pisanje u csv fajlu direktno iz Python-a. Ova funkcija ima jedan zahtevani argument - ime varijable koja predstavlja csv fajl koji ste napravili u prethodnom delu. Međutim, morate da koristite opcioni argument: postavite **graničnik (delimeter)** na ',' i **prekidanje reda (lineterminator)** na '\\n'. Onda je potrebno upotrebiti metod <font color='DeepPink'><b>writerows</b></font> da biste listu **podaci** stavili u taj fajl. Ako ste sve uradili kako treba, ove nove kolone bi trebalo da se pojave u vašem csv fajlu. Stoga, potreban kod je: "
   ]
  },
  {
   "cell_type": "code",
   "execution_count": null,
   "id": "e80e4457",
   "metadata": {},
   "outputs": [],
   "source": [
    "writer = csv.writer(f2, delimiter=',',lineterminator='\\n')\n",
    "writer.writerows(#ovde je potrebno da stavite vasu listu koju ste dobili pod h) koja se zove podaci )\n",
    "f2.close()"
   ]
  },
  {
   "cell_type": "markdown",
   "id": "db94484a",
   "metadata": {},
   "source": [
    "<font color='DarkViolet ' style=\"font-size:25px\"><b>Zadatak br. 3 - Ispravan broj kreditne kartice</b></font>"
   ]
  },
  {
   "cell_type": "markdown",
   "id": "7dc7a19a",
   "metadata": {},
   "source": [
    "Uzmimo da želite da proverite da li je broj neke kreditne kartice ispravana ili ne. Postoje neka pravila koja nam u tome mogu pomoći. Pre svega, American Express koristi samo brojeve sa 15 cifara, MasterCard isključivo sa 16, dok Visa koristi brojeve kartica i sa 13 i sa 16 cifara.  \n",
    "\n",
    "Postoje i neka tradicionalna pravila. Naime, American Express brojevi kartica svi počinju sa 34 ili 37; MasterCard brojevi kartica počinju sa 51, 52, 53, 54, ili 55; dok Visa kartice počinju sa 4. \n",
    "\n",
    "Napišite funkciju <font color='Blue'><b>amexQ</b></font>, gde je n pozitivan broj (potencijalni broj kreditne kartice), koji daje True ako su prethodni uslovi za American Express ispunjeni i False u suprotnom. Slično napravite funkcije <font color='Blue'><b>masterQ</b></font> i <font color='Blue'><b>visaQ</b></font>. Ovo je prvi korak u pravljenju koda za proveru kreditnih kartica. Probajte da testirate ovo na stvarnom broju kreditne kartice. "
   ]
  },
  {
   "cell_type": "code",
   "execution_count": null,
   "id": "1578154f",
   "metadata": {},
   "outputs": [],
   "source": []
  },
  {
   "cell_type": "code",
   "execution_count": null,
   "id": "4d635b87",
   "metadata": {},
   "outputs": [],
   "source": []
  },
  {
   "cell_type": "code",
   "execution_count": null,
   "id": "54fa513d",
   "metadata": {},
   "outputs": [],
   "source": []
  },
  {
   "cell_type": "markdown",
   "id": "17d3c614",
   "metadata": {},
   "source": [
    "<font color='DarkViolet ' style=\"font-size:25px\"><b>Zadatak br. 4 - Lunovo pravilo</b></font>"
   ]
  },
  {
   "cell_type": "markdown",
   "id": "513665d9",
   "metadata": {},
   "source": [
    "Osim uslova u Zadatku br. 1, ispravni broj kreditne kartice mora da zadovolji i nešto što se zove Lunovo pravilo. \n",
    "\n",
    "Razdvojite broj kreditne kartice na cifre. Skup tih cifara razdvojite na dva podskupa. Prvi podskup su cifre koje počinju od druge cifre zdesna u listi i idu do početka, uvek preskačući jednu cifru (svaka druga cifra). Nazovimo to skupom A. Drugi skup cifara su preostale cifre. Nazovimo ovaj skup B. \n",
    "\n",
    "Onda, sve cifre iz skupa A množimo sa 2. Tako dobijene brojeve rastavljamo na cifre opet. Onda sabiramo sve cifre. To će biti $sum_A$. Ovoj sumi dodajemo $sum_B$ koju dobijamo ako sve cifre u skupu B prosto saberemo (bez ikakvih transformacija).  \n",
    "\n",
    "Ako je $sum_A + sum_B$ deljivo sa 10, Lunovo pravilo je zadovoljeno. Ukoliko je jedno od 3 pravila u prvom zadatku ispoštovano i ukoliko je Lunovo pravilo zadovoljeno isto, onda je taj broj ispravan broj kreditne kartice. "
   ]
  },
  {
   "cell_type": "markdown",
   "id": "acb16e86",
   "metadata": {},
   "source": [
    "Evo primera. AmEx: 378282246310005. Skup A su podvučene cifre: 3<u>7</u>8<u>2</u>8<u>2</u>2<u>4</u>6<u>3</u>1<u>0</u>0<u>0</u>5, a skup B je ostatak. Drugim rečima, dva skupa sa kojima ćemo dalje raditi su: \n",
    "\n",
    "$$A= \\{7, 2, 2, 4, 3, 0, 0\\} \\,\\,\\,\\,\\,\\,\\,\\,\\,\\,\\,\\,\\,\\,  B = \\{3, 8, 8, 2, 6, 1, 0, 5\\}$$\n",
    "\n",
    "Nakon množenja elemenata skupa A sa 2, dobijamo\n",
    "\n",
    "$$\\{7\\cdot 2,  2\\cdot 2,  2\\cdot 2, 4\\cdot 2 , 3\\cdot 2, 0\\cdot 2, 0\\cdot 2\\} = \\{ 14,  4,  4, 8 , 6, 0, 0\\} $$\n",
    "\n",
    "Razdvajanjem ovih na pojedinačne cifre dobijamo $\\{ 1, 4,  4,  4, 8 , 6, 0, 0\\}$. Konačno, sumA se dobijamo ako saberemo sve ove cifre\n",
    "\n",
    "$$sum_A= 1 + 4 + 4 + 4 + 8 + 6 + 0 + 0 = 27$$\n",
    "\n",
    "Sad izračunajmo sumB. To je jednostavno suma cifara u B.\n",
    "\n",
    "$$sum_B = 3 + 8 + 8 + 2 + 6 + 1 + 0 + 5 = 33$$\n",
    "\n",
    "Vidimo da je $sum_A + sum_B = 60$. To je deljivo sa 10. Stoga, ovo može biti validan broj kreditne kartice. \n",
    "\n",
    "Napišite funkciju <font color='Blue'><b>sum_LuhnQ</b></font> koja daje True ako je Lunoo pravilo zadovoljeno/ispunjeno i False ako nije. Input bi trebalo da bude pozitivan broj. Može biti korisno da se ova funkcija napiše posebno za slučaj kada je broj paran, a posebno kada je neparan (koristeći conditional patterns u function definitions), ali naravno koristeći isto ime. Proverite da funkcija radi za brojeve koji su vam pri ruci, i za neke druge brojeve kartica. \n",
    "\n"
   ]
  },
  {
   "cell_type": "code",
   "execution_count": null,
   "id": "6a244c33",
   "metadata": {},
   "outputs": [],
   "source": []
  },
  {
   "cell_type": "code",
   "execution_count": null,
   "id": "cd2568f0",
   "metadata": {},
   "outputs": [],
   "source": []
  },
  {
   "cell_type": "code",
   "execution_count": null,
   "id": "7c0a178e",
   "metadata": {},
   "outputs": [],
   "source": []
  },
  {
   "cell_type": "markdown",
   "id": "cea073ee",
   "metadata": {},
   "source": [
    "<font color='DarkViolet ' style=\"font-size:25px\"><b>Zadatak broj 5 - Povezivanje funkcija</b></font>"
   ]
  },
  {
   "cell_type": "markdown",
   "id": "e1a7bb64",
   "metadata": {},
   "source": [
    "Ako ste uspeli da rešite oba <font color='DarkViolet'><b>Zadatk br. 1</b></font> i <font color='DarkViolet'><b>Zadatak br. 2</b></font>, možete napisati funkciju <font color='Blue'><b>validCreditCardQ</b></font> koja kao input uzima pozitivan broj i za autput daje jednu od 4 stvari: \n",
    "\n",
    "**\"Ovo je ispravan broj American Express kartice\"** (ako su oba <font color='Blue'><b>amexQ</b></font> i <font color='Blue'><b>sumLuhnQ</b></font> True),\n",
    "\n",
    " **\"Ovo je ispravan broj Master card kartice\"** (ako su oba <font color='Blue'><b>masterQ</b></font> i <font color='Blue'><b>sumLuhnQ</b></font> validna), \n",
    " \n",
    " **\"Ovo je ispravan broj Visa kartice\"** (ako su oba <font color='Blue'><b>visaQ</b></font> i <font color='Blue'><b>sumLuhnQ</b></font> validna), \n",
    " \n",
    " **\"Ovo nije ispravan broj kreditne kartice\"** (ako nijedan od prethodna tri slučaja nije tačan - nije True). \n",
    "\n",
    "Proverite da li funkcije rade za brojeve kartica koje imate pri ruci, kod sebe i za neke druge brojeve kreditnih kartica. "
   ]
  },
  {
   "cell_type": "code",
   "execution_count": null,
   "id": "2edc6461",
   "metadata": {},
   "outputs": [],
   "source": []
  }
 ],
 "metadata": {
  "kernelspec": {
   "display_name": "Python 3 (ipykernel)",
   "language": "python",
   "name": "python3"
  },
  "language_info": {
   "codemirror_mode": {
    "name": "ipython",
    "version": 3
   },
   "file_extension": ".py",
   "mimetype": "text/x-python",
   "name": "python",
   "nbconvert_exporter": "python",
   "pygments_lexer": "ipython3",
   "version": "3.9.13"
  }
 },
 "nbformat": 4,
 "nbformat_minor": 5
}
